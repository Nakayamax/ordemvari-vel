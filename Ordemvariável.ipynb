{
 "cells": [
  {
   "cell_type": "code",
   "execution_count": 9,
   "id": "3ffc82ed-edbf-4915-bae0-642c1ba20502",
   "metadata": {},
   "outputs": [
    {
     "name": "stdout",
     "output_type": "stream",
     "text": [
      "500\n",
      "300\n",
      "2500\n"
     ]
    }
   ],
   "source": [
    "faturamento = 1000\n",
    "custo = 500\n",
    "inventimento = 1500\n",
    "\n",
    "lucro = faturamento - custo\n",
    "print (lucro)\n",
    "\n",
    "custo = 700\n",
    "\n",
    "lucro = faturamento - custo\n",
    "print (lucro)\n",
    "\n",
    "\n",
    "lucro = inventimento + faturamento\n",
    "print (lucro)\n",
    "\n",
    "inventimento = 1500"
   ]
  },
  {
   "cell_type": "code",
   "execution_count": null,
   "id": "60c5c9c4-5d99-426c-8710-1f01a0c6cd39",
   "metadata": {},
   "outputs": [],
   "source": []
  }
 ],
 "metadata": {
  "kernelspec": {
   "display_name": "Python 3 (ipykernel)",
   "language": "python",
   "name": "python3"
  },
  "language_info": {
   "codemirror_mode": {
    "name": "ipython",
    "version": 3
   },
   "file_extension": ".py",
   "mimetype": "text/x-python",
   "name": "python",
   "nbconvert_exporter": "python",
   "pygments_lexer": "ipython3",
   "version": "3.12.4"
  }
 },
 "nbformat": 4,
 "nbformat_minor": 5
}
